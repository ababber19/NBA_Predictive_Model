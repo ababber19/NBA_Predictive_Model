{
 "cells": [
  {
   "cell_type": "markdown",
   "metadata": {},
   "source": [
    "## Inputs"
   ]
  },
  {
   "cell_type": "code",
   "execution_count": 1,
   "metadata": {},
   "outputs": [],
   "source": [
    "# Used for data prep/manipulation\n",
    "import numpy as np\n",
    "import pandas as pd\n",
    "\n",
    "# Used to create partition in training/testing data\n",
    "from sklearn.model_selection import train_test_split\n",
    "\n",
    "# Used to create, train, and test the model\n",
    "import tensorflow as tf\n",
    "from tensorflow import keras\n",
    "from tensorflow.keras import layers\n",
    "from tensorflow.keras.layers.experimental import RandomFourierFeatures\n",
    "\n",
    "from keras.models import Sequential\n",
    "from keras.layers import Dense\n",
    "\n",
    "import seaborn as sns"
   ]
  },
  {
   "cell_type": "markdown",
   "metadata": {},
   "source": [
    "## Data Preparation"
   ]
  },
  {
   "cell_type": "code",
   "execution_count": 2,
   "metadata": {},
   "outputs": [],
   "source": [
    "# Groups statistics by player's name, gets average of available years\n",
    "stats = pd.read_csv(\"firstTwoYearsStatsPergame.csv\")\n",
    "stats=stats.fillna(0)\n",
    "\n",
    "stats = stats[stats[\"year\"]>1990]\n",
    "\n",
    "stats = stats.groupby(\"Player\").mean().reset_index()\n",
    "\n",
    "# Classifier variable, 0-19, ordinal ranking\n",
    "stats[\"FYMP_Rank\"] = pd.cut(stats[\"FYMP\"], bins=10, labels=False)\n",
    "\n",
    "stats = stats.drop(columns=[\"isRookie\", \"isSoph\"])"
   ]
  },
  {
   "cell_type": "code",
   "execution_count": 3,
   "metadata": {},
   "outputs": [
    {
     "data": {
      "text/plain": [
       "<matplotlib.axes._subplots.AxesSubplot at 0x7f91acae1d90>"
      ]
     },
     "execution_count": 3,
     "metadata": {},
     "output_type": "execute_result"
    },
    {
     "data": {
      "image/png": "[encoded data removed]",
      "text/plain": [
       "<Figure size 432x288 with 1 Axes>"
      ]
     },
     "metadata": {
      "needs_background": "light"
     },
     "output_type": "display_data"
    }
   ],
   "source": [
    "sns.countplot(data=stats, x=\"FYMP_Rank\")"
   ]
  },
  {
   "cell_type": "code",
   "execution_count": 4,
   "metadata": {},
   "outputs": [],
   "source": [
    "# Separates x and y values\n",
    "X = stats.iloc[:,1:-4]\n",
    "y = stats.iloc[:,[-1]]\n",
    "\n",
    "X = X.values\n",
    "y = y.values"
   ]
  },
  {
   "cell_type": "code",
   "execution_count": 5,
   "metadata": {},
   "outputs": [],
   "source": [
    "# Creates training and testing data partition\n",
    "X_train, X_test, y_train, y_test = train_test_split(X, y, test_size=0.20, random_state=42, shuffle=True)\n",
    "\n",
    "# X_train, X_test = X_train.reshape([-1, num_features]), X_test.reshape([-1, num_features])"
   ]
  },
  {
   "cell_type": "markdown",
   "metadata": {},
   "source": [
    "## Model Building"
   ]
  },
  {
   "cell_type": "code",
   "execution_count": 6,
   "metadata": {},
   "outputs": [
    {
     "name": "stdout",
     "output_type": "stream",
     "text": [
      "Model: \"sequential\"\n",
      "_________________________________________________________________\n",
      " Layer (type)                Output Shape              Param #   \n",
      "=================================================================\n",
      " dense (Dense)               (None, 512)               13824     \n",
      "                                                                 \n",
      " dense_1 (Dense)             (None, 256)               131328    \n",
      "                                                                 \n",
      " dense_2 (Dense)             (None, 64)                16448     \n",
      "                                                                 \n",
      " dense_3 (Dense)             (None, 10)                650       \n",
      "                                                                 \n",
      "=================================================================\n",
      "Total params: 162,250\n",
      "Trainable params: 162,250\n",
      "Non-trainable params: 0\n",
      "_________________________________________________________________\n"
     ]
    }
   ],
   "source": [
    "num_classes = 20\n",
    "\n",
    "model = Sequential()\n",
    "model.add(Dense(units = 512, activation = 'relu', input_shape=(X_train.shape[1],)))\n",
    "model.add(Dense(units = 256, activation = 'relu'))\n",
    "model.add(Dense(units = 64, activation = 'relu'))\n",
    "model.add(Dense(units = 10, activation = 'softmax'))\n",
    "\n",
    "model.summary()"
   ]
  },
  {
   "cell_type": "code",
   "execution_count": 7,
   "metadata": {},
   "outputs": [],
   "source": [
    "# Compiles model using following optimizer/loss function, with accuracy printed during training\n",
    "model.compile(optimizer=\"rmsprop\", loss=\"categorical_crossentropy\", metrics=[\"categorical_accuracy\"])"
   ]
  },
  {
   "cell_type": "code",
   "execution_count": 8,
   "metadata": {},
   "outputs": [],
   "source": [
    "# Categorically encodes the labels (y-values)\n",
    "from keras.utils.np_utils import to_categorical\n",
    "\n",
    "y_train = to_categorical(y_train)\n",
    "y_test = to_categorical(y_test)"
   ]
  },
  {
   "cell_type": "code",
   "execution_count": 9,
   "metadata": {},
   "outputs": [
    {
     "name": "stdout",
     "output_type": "stream",
     "text": [
      "Epoch 1/10\n",
      "WARNING:tensorflow:AutoGraph could not transform <function Model.make_train_function.<locals>.train_function at 0x7f919934eef0> and will run it as-is.\n",
      "Please report this to the TensorFlow team. When filing the bug, set the verbosity to 10 (on Linux, `export AUTOGRAPH_VERBOSITY=10`) and attach the full output.\n",
      "Cause: 'arguments' object has no attribute 'posonlyargs'\n",
      "To silence this warning, decorate the function with @tf.autograph.experimental.do_not_convert\n",
      "WARNING: AutoGraph could not transform <function Model.make_train_function.<locals>.train_function at 0x7f919934eef0> and will run it as-is.\n",
      "Please report this to the TensorFlow team. When filing the bug, set the verbosity to 10 (on Linux, `export AUTOGRAPH_VERBOSITY=10`) and attach the full output.\n",
      "Cause: 'arguments' object has no attribute 'posonlyargs'\n",
      "To silence this warning, decorate the function with @tf.autograph.experimental.do_not_convert\n",
      "37/37 [==============================] - 1s 4ms/step - loss: 1.7185 - categorical_accuracy: 0.5457\n",
      "Epoch 2/10\n",
      "37/37 [==============================] - 0s 4ms/step - loss: 1.3782 - categorical_accuracy: 0.5614\n",
      "Epoch 3/10\n",
      "37/37 [==============================] - 0s 4ms/step - loss: 1.3315 - categorical_accuracy: 0.5772\n",
      "Epoch 4/10\n",
      "37/37 [==============================] - 0s 4ms/step - loss: 1.3107 - categorical_accuracy: 0.5799\n",
      "Epoch 5/10\n",
      "37/37 [==============================] - 0s 3ms/step - loss: 1.2948 - categorical_accuracy: 0.5842\n",
      "Epoch 6/10\n",
      "37/37 [==============================] - 0s 3ms/step - loss: 1.2831 - categorical_accuracy: 0.5848\n",
      "Epoch 7/10\n",
      "37/37 [==============================] - 0s 3ms/step - loss: 1.2784 - categorical_accuracy: 0.5918\n",
      "Epoch 8/10\n",
      "37/37 [==============================] - 0s 3ms/step - loss: 1.2727 - categorical_accuracy: 0.5918\n",
      "Epoch 9/10\n",
      "37/37 [==============================] - 0s 3ms/step - loss: 1.2616 - categorical_accuracy: 0.5891\n",
      "Epoch 10/10\n",
      "37/37 [==============================] - 0s 3ms/step - loss: 1.2544 - categorical_accuracy: 0.5962\n"
     ]
    },
    {
     "data": {
      "text/plain": [
       "<keras.callbacks.History at 0x7f91b7927210>"
      ]
     },
     "execution_count": 9,
     "metadata": {},
     "output_type": "execute_result"
    }
   ],
   "source": [
    "# Trains the data\n",
    "model.fit(X_train, y_train, epochs=10, batch_size=50)\n",
    "\n",
    "# Epoch 10: loss: 1.7946 - categorical_accuracy: 0.5163"
   ]
  },
  {
   "cell_type": "code",
   "execution_count": 10,
   "metadata": {},
   "outputs": [
    {
     "name": "stdout",
     "output_type": "stream",
     "text": [
      "WARNING:tensorflow:AutoGraph could not transform <function Model.make_test_function.<locals>.test_function at 0x7f9199f1d320> and will run it as-is.\n",
      "Please report this to the TensorFlow team. When filing the bug, set the verbosity to 10 (on Linux, `export AUTOGRAPH_VERBOSITY=10`) and attach the full output.\n",
      "Cause: 'arguments' object has no attribute 'posonlyargs'\n",
      "To silence this warning, decorate the function with @tf.autograph.experimental.do_not_convert\n",
      "WARNING: AutoGraph could not transform <function Model.make_test_function.<locals>.test_function at 0x7f9199f1d320> and will run it as-is.\n",
      "Please report this to the TensorFlow team. When filing the bug, set the verbosity to 10 (on Linux, `export AUTOGRAPH_VERBOSITY=10`) and attach the full output.\n",
      "Cause: 'arguments' object has no attribute 'posonlyargs'\n",
      "To silence this warning, decorate the function with @tf.autograph.experimental.do_not_convert\n",
      "15/15 [==============================] - 0s 2ms/step - loss: 1.3452 - categorical_accuracy: 0.5662\n"
     ]
    },
    {
     "data": {
      "text/plain": [
       "[1.3452383279800415, 0.5661605000495911]"
      ]
     },
     "execution_count": 10,
     "metadata": {},
     "output_type": "execute_result"
    }
   ],
   "source": [
    "# Tests the model on the testing data\n",
    "model.evaluate(X_test, y_test)\n",
    "\n",
    "# loss: 1.8382 - categorical_accuracy: 0.5054"
   ]
  }
 ],
 "metadata": {
  "kernelspec": {
   "display_name": "Python 3",
   "language": "python",
   "name": "python3"
  },
  "language_info": {
   "codemirror_mode": {
    "name": "ipython",
    "version": 3
   },
   "file_extension": ".py",
   "mimetype": "text/x-python",
   "name": "python",
   "nbconvert_exporter": "python",
   "pygments_lexer": "ipython3",
   "version": "3.7.4"
  }
 },
 "nbformat": 4,
 "nbformat_minor": 2
}
